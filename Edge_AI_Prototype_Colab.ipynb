
# Edge AI Prototype: Recyclable Item Classifier

## Steps:
1. Load and preprocess dataset (simulated using rock_paper_scissors from TFDS).
2. Train a lightweight CNN.
3. Convert to TensorFlow Lite.
4. Run inference using TFLite Interpreter.
5. Discuss Edge AI benefits.

## Code Snippets included in the script.
